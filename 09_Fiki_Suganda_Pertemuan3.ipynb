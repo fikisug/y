{
  "nbformat": 4,
  "nbformat_minor": 0,
  "metadata": {
    "colab": {
      "provenance": [],
      "collapsed_sections": [],
      "authorship_tag": "ABX9TyN5yg77lQb0Inlj7vHG138J",
      "include_colab_link": true
    },
    "kernelspec": {
      "name": "python3",
      "display_name": "Python 3"
    },
    "language_info": {
      "name": "python"
    }
  },
  "cells": [
    {
      "cell_type": "markdown",
      "metadata": {
        "id": "view-in-github",
        "colab_type": "text"
      },
      "source": [
        "<a href=\"https://colab.research.google.com/github/fikisug/y/blob/main/09_Fiki_Suganda_Pertemuan3.ipynb\" target=\"_parent\"><img src=\"https://colab.research.google.com/assets/colab-badge.svg\" alt=\"Open In Colab\"/></a>"
      ]
    },
    {
      "cell_type": "code",
      "execution_count": 37,
      "metadata": {
        "colab": {
          "base_uri": "https://localhost:8080/"
        },
        "id": "RqCoS0ZF3IX4",
        "outputId": "8d0beb86-bef7-4481-db18-096936530f46"
      },
      "outputs": [
        {
          "output_type": "stream",
          "name": "stdout",
          "text": [
            "Hasil penelusuran graf menggunakan BFS:\n",
            "A B C D E F G H "
          ]
        }
      ],
      "source": [
        "graph = {\n",
        "    'A' : ['B','C'],\n",
        "    'B' : ['D','E'],\n",
        "    'C' : ['F'],\n",
        "    'D' : [],\n",
        "    'E' : ['F','G'],\n",
        "    'F' : ['H'],\n",
        "    'G' : ['H'],\n",
        "    'H' : ['G']\n",
        "}\n",
        "\n",
        "visited = []\n",
        "queue = []\n",
        "\n",
        "def bfs(visited,graph,node):\n",
        "  visited.append(node)\n",
        "  queue.append(node)\n",
        "\n",
        "  while queue:\n",
        "    s = queue.pop(0)\n",
        "    print(s, end = \" \")\n",
        "\n",
        "    for neighbour in graph[s]:\n",
        "      if neighbour not in visited:\n",
        "        visited.append(neighbour)\n",
        "        queue.append(neighbour)\n",
        "\n",
        "print(\"Hasil penelusuran graf menggunakan BFS:\")\n",
        "bfs(visited, graph, 'A')"
      ]
    },
    {
      "cell_type": "markdown",
      "source": [
        "1. di langkah ke3 membuat fungsi bfs yang berparameter visited, graph, node. kemudian variabel array visited akan ditambahkan node, begitu juga array queue. kemudian ada perulangan while yang mana variabel s untuk menyimpan nilai di node ke-0 yang ke keluarkan dari graph melalui syntax pop. lalu akan keluar output sesuai dengan syntax print.\n",
        "kemudian ada perulangan for yang mana berfungsi untuk menambahkan nilai yang bertetangga dengan graph[s], kemudian bila for sudah selesai maka akan kembali ke perulangan while. begitu seterusnya sampai nilai di variabel graph habis terbaca semua "
      ],
      "metadata": {
        "id": "0tW_Y7iSDGaY"
      }
    },
    {
      "cell_type": "markdown",
      "source": [
        "2. maka hasil nya akan menjadi A B C D E F G H, karena node E berhubungan dengan node G maka setelah output F maka akan ke G karena E dan G"
      ],
      "metadata": {
        "id": "kZ-8m-THI8Dt"
      }
    },
    {
      "cell_type": "code",
      "source": [
        "graph = {\n",
        "    'A' : ['B','C'],\n",
        "    'B' : ['D','E', 'C'],\n",
        "    'C' : ['F'],\n",
        "    'D' : [],\n",
        "    'E' : ['F'],\n",
        "    'F' : ['H'],\n",
        "    'G' : ['H'],\n",
        "    'H' : ['G']\n",
        "}\n",
        "\n",
        "visited = set()\n",
        "\n",
        "def dfs(visited,graph,node):\n",
        "  if node not in visited:\n",
        "    print(node)\n",
        "    visited.add(node)\n",
        "    for neighbour in graph[node]:\n",
        "      dfs(visited, graph, neighbour)\n",
        "\n",
        "print(\"Hasil penelusuran graf menggunakan DFS:\")\n",
        "dfs(visited, graph, 'A')"
      ],
      "metadata": {
        "colab": {
          "base_uri": "https://localhost:8080/"
        },
        "id": "45d063hD3hFd",
        "outputId": "d5aa4cb9-c527-4696-c739-11d90135ed85"
      },
      "execution_count": 38,
      "outputs": [
        {
          "output_type": "stream",
          "name": "stdout",
          "text": [
            "Hasil penelusuran graf menggunakan DFS:\n",
            "A\n",
            "B\n",
            "D\n",
            "E\n",
            "F\n",
            "H\n",
            "G\n",
            "C\n"
          ]
        }
      ]
    },
    {
      "cell_type": "markdown",
      "source": [
        "1. dilangkah ke3 ada dibuatnya fungsi dfs yang berparameter, kemudian ada pemilihan apakah nilai node tidak ada di variabel visited, jika true maka akan keluar output nilai node, lalu akan ditambahkannya nilai node ke variabel visited, kemudian ada perulangan for yang mana bila ada tetangga di node maka akan kembali ke fungsi dfs dan akan terus berulang sampai nilai node ada semua di variabel visited"
      ],
      "metadata": {
        "id": "W0BhmwsYJsUW"
      }
    },
    {
      "cell_type": "markdown",
      "source": [
        "2. tidak ada perubahan, karena urutan dfs dimulai dari kiri dan akan di outputkan sampai tidak ada tetangga, dan mengapa tetangga C yaitu F H G tidak keluar setelah C karena node tersebut sudah dikeluarkan di parent E dan sudah tersimpan di variabel visited"
      ],
      "metadata": {
        "id": "vvsEbsPRLhDN"
      }
    },
    {
      "cell_type": "code",
      "source": [
        "graph = {\n",
        "    'A' : ['B','E','F'],\n",
        "    'B' : ['A','F','G'],\n",
        "    'C' : ['D','G'],\n",
        "    'D' : ['C','H'],\n",
        "    'E' : ['A','F'],\n",
        "    'F' : ['B','E'],\n",
        "    'G' : ['B','C','H'],\n",
        "    'H' : ['D','G']\n",
        "}\n",
        "\n",
        "visited = []\n",
        "queue = []\n",
        "\n",
        "def bfs(visited,graph,node):\n",
        "  visited.append(node)\n",
        "  queue.append(node)\n",
        "\n",
        "  while queue:\n",
        "    s = queue.pop(0)\n",
        "    print(s, end = \" \")\n",
        "\n",
        "    for neighbour in graph[s]:\n",
        "      if neighbour not in visited:\n",
        "        visited.append(neighbour)\n",
        "        queue.append(neighbour)\n",
        "\n",
        "print(\"Hasil penelusuran graf menggunakan BFS:\")\n",
        "bfs(visited, graph, 'A')"
      ],
      "metadata": {
        "colab": {
          "base_uri": "https://localhost:8080/"
        },
        "id": "aoKgp9_IP-Zo",
        "outputId": "831ecb24-6d59-42ff-8d8b-e02df2791897"
      },
      "execution_count": 40,
      "outputs": [
        {
          "output_type": "stream",
          "name": "stdout",
          "text": [
            "Hasil penelusuran graf menggunakan BFS:\n",
            "A B E F G C H D "
          ]
        }
      ]
    },
    {
      "cell_type": "code",
      "source": [
        "graph = {\n",
        "    'A' : ['B','E','F'],\n",
        "    'B' : ['A','F','G'],\n",
        "    'C' : ['D','G'],\n",
        "    'D' : ['C','H'],\n",
        "    'E' : ['A','F'],\n",
        "    'F' : ['B','E'],\n",
        "    'G' : ['B','C','H'],\n",
        "    'H' : ['D','G']\n",
        "}\n",
        "\n",
        "visited = set()\n",
        "\n",
        "def dfs(visited,graph,node):\n",
        "  if node not in visited:\n",
        "    print(node)\n",
        "    visited.add(node)\n",
        "    for neighbour in graph[node]:\n",
        "      dfs(visited, graph, neighbour)\n",
        "\n",
        "print(\"Hasil penelusuran graf menggunakan DFS:\")\n",
        "dfs(visited, graph, 'A')"
      ],
      "metadata": {
        "colab": {
          "base_uri": "https://localhost:8080/"
        },
        "id": "REm6yw4aTcSC",
        "outputId": "31192ce9-107e-4ac6-b06d-11f0733ca805"
      },
      "execution_count": 41,
      "outputs": [
        {
          "output_type": "stream",
          "name": "stdout",
          "text": [
            "Hasil penelusuran graf menggunakan DFS:\n",
            "A\n",
            "B\n",
            "F\n",
            "E\n",
            "G\n",
            "C\n",
            "D\n",
            "H\n"
          ]
        }
      ]
    }
  ]
}